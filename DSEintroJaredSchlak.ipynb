{
 "cells": [
  {
   "cell_type": "code",
   "execution_count": 10,
   "id": "1d4b27a2-d92a-4518-a3a6-76df06a9bd3d",
   "metadata": {},
   "outputs": [
    {
     "name": "stdout",
     "output_type": "stream",
     "text": [
      "Welcome to fun facts about Jared Schlak\n"
     ]
    },
    {
     "name": "stdin",
     "output_type": "stream",
     "text": [
      "Please choose a number between 1 and 5 to display a fun fact about me! 3\n"
     ]
    },
    {
     "name": "stdout",
     "output_type": "stream",
     "text": [
      "I have four kids aged 13, 10, 8, and 6.\n",
      "Thanks and have a great day!\n"
     ]
    }
   ],
   "source": [
    "# Jared Schlak\n",
    "# Fun Fact:  I have been to Machu Picchu\n",
    "\n",
    "print(\"Welcome to fun facts about Jared Schlak\")  #prints to the screen\n",
    "funFact = 0  # Initialize variable funFact before the loop\n",
    "\n",
    "while not (1 <= funFact <= 5):  #forces user to choose a number between 1 and 5 inclusive\n",
    "    funFact = int(input(\"Please choose a number between 1 and 5 to display a fun fact about me!\"))\n",
    "    if funFact < 1 or funFact > 5: \n",
    "        print(\"Please try again!\")\n",
    "\n",
    "#will print to the screen a fun fact about myself dependent on which number you choose between 1 and 5.\n",
    "if funFact == 1:\n",
    "    print(\"I am a captain in the Air Force\")\n",
    "elif funFact ==2:\n",
    "    print(\"I lived in Peru for 3 years and Mexico for 1 year!\")\n",
    "elif funFact ==3:\n",
    "    print(\"I have four kids aged 13, 10, 8, and 6.\")\n",
    "elif funFact ==4:\n",
    "    print(\"I have travelled to 4 continents\")\n",
    "else:\n",
    "    print(\"I am 40 years old and just beginning my PhD.\")\n",
    "\n",
    "print(\"Thanks and have a great day!\")"
   ]
  },
  {
   "cell_type": "code",
   "execution_count": null,
   "id": "63255104-6979-4850-810a-b48d92310830",
   "metadata": {},
   "outputs": [],
   "source": []
  }
 ],
 "metadata": {
  "kernelspec": {
   "display_name": "Python [conda env:base] *",
   "language": "python",
   "name": "conda-base-py"
  },
  "language_info": {
   "codemirror_mode": {
    "name": "ipython",
    "version": 3
   },
   "file_extension": ".py",
   "mimetype": "text/x-python",
   "name": "python",
   "nbconvert_exporter": "python",
   "pygments_lexer": "ipython3",
   "version": "3.13.5"
  }
 },
 "nbformat": 4,
 "nbformat_minor": 5
}
